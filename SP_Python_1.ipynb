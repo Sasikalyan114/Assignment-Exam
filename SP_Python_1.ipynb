{
  "nbformat": 4,
  "nbformat_minor": 0,
  "metadata": {
    "colab": {
      "provenance": [],
      "authorship_tag": "ABX9TyObmVMXyLjUHkOGQSC0HJHK",
      "include_colab_link": true
    },
    "kernelspec": {
      "name": "python3",
      "display_name": "Python 3"
    },
    "language_info": {
      "name": "python"
    }
  },
  "cells": [
    {
      "cell_type": "markdown",
      "metadata": {
        "id": "view-in-github",
        "colab_type": "text"
      },
      "source": [
        "<a href=\"https://colab.research.google.com/github/Sasikalyan114/Assignment-Exam/blob/main/SP_Python_1.ipynb\" target=\"_parent\"><img src=\"https://colab.research.google.com/assets/colab-badge.svg\" alt=\"Open In Colab\"/></a>"
      ]
    },
    {
      "cell_type": "markdown",
      "source": [
        "1 . Print the input text without vowels using List comprehensions\n",
        "\n",
        "input = 'hai'\n",
        "\n",
        "Expected output = h\n"
      ],
      "metadata": {
        "id": "iLEsfQ7eXLkX"
      }
    },
    {
      "cell_type": "code",
      "source": [
        "a=input()\n",
        "print([i for i in a if i not in 'AEIOUaeoiu'])"
      ],
      "metadata": {
        "colab": {
          "base_uri": "https://localhost:8080/"
        },
        "id": "ra_dXPG6ChHQ",
        "outputId": "59bc7413-b4b7-42e1-bafc-d7316cc78385"
      },
      "execution_count": 49,
      "outputs": [
        {
          "output_type": "stream",
          "name": "stdout",
          "text": [
            "hai\n",
            "['h']\n"
          ]
        }
      ]
    },
    {
      "cell_type": "markdown",
      "source": [
        "2 . Print only vowels from the text using List comprehensions\n",
        "\n",
        "input = data\n",
        "\n",
        "Expected output = dt\n"
      ],
      "metadata": {
        "id": "2E1iFR9WYkxU"
      }
    },
    {
      "cell_type": "code",
      "source": [
        "a = input()\n",
        "print([i for i in 'data' if i in 'AEIOUaeiou'])"
      ],
      "metadata": {
        "colab": {
          "base_uri": "https://localhost:8080/"
        },
        "id": "yPIj9t5lY1vH",
        "outputId": "101e788a-6bc0-4e06-dc85-b4e188b8448b"
      },
      "execution_count": 55,
      "outputs": [
        {
          "output_type": "stream",
          "name": "stdout",
          "text": [
            "data\n",
            "['a', 'a']\n"
          ]
        }
      ]
    },
    {
      "cell_type": "markdown",
      "source": [
        "3. print each valu from the list with its index\n",
        "\n",
        "input = [10,11,50,34]\n",
        "\n",
        "Expected output = [100 , 111 , 502 , 343]\n"
      ],
      "metadata": {
        "id": "tKcuo7WnyfNZ"
      }
    },
    {
      "cell_type": "code",
      "source": [
        "b=[]\n",
        "a=[10,11,50,34]\n",
        "for i in a:\n",
        "    c=a.index(i)\n",
        "    d=int(str(i)+str(c))\n",
        "    b.append(d)\n",
        "print(b)"
      ],
      "metadata": {
        "colab": {
          "base_uri": "https://localhost:8080/",
          "height": 211
        },
        "collapsed": true,
        "id": "aematIwzHcYV",
        "outputId": "5dc94118-71ac-44bd-8d86-a69cdc758112"
      },
      "execution_count": 88,
      "outputs": [
        {
          "output_type": "error",
          "ename": "TypeError",
          "evalue": "'str' object is not callable",
          "traceback": [
            "\u001b[0;31m---------------------------------------------------------------------------\u001b[0m",
            "\u001b[0;31mTypeError\u001b[0m                                 Traceback (most recent call last)",
            "\u001b[0;32m<ipython-input-88-ffd1d09f98d0>\u001b[0m in \u001b[0;36m<cell line: 3>\u001b[0;34m()\u001b[0m\n\u001b[1;32m      3\u001b[0m \u001b[0;32mfor\u001b[0m \u001b[0mi\u001b[0m \u001b[0;32min\u001b[0m \u001b[0ma\u001b[0m\u001b[0;34m:\u001b[0m\u001b[0;34m\u001b[0m\u001b[0;34m\u001b[0m\u001b[0m\n\u001b[1;32m      4\u001b[0m     \u001b[0mc\u001b[0m\u001b[0;34m=\u001b[0m\u001b[0ma\u001b[0m\u001b[0;34m.\u001b[0m\u001b[0mindex\u001b[0m\u001b[0;34m(\u001b[0m\u001b[0mi\u001b[0m\u001b[0;34m)\u001b[0m\u001b[0;34m\u001b[0m\u001b[0;34m\u001b[0m\u001b[0m\n\u001b[0;32m----> 5\u001b[0;31m     \u001b[0md\u001b[0m\u001b[0;34m=\u001b[0m\u001b[0mint\u001b[0m\u001b[0;34m(\u001b[0m\u001b[0mstr\u001b[0m\u001b[0;34m(\u001b[0m\u001b[0mi\u001b[0m\u001b[0;34m)\u001b[0m\u001b[0;34m+\u001b[0m\u001b[0mstr\u001b[0m\u001b[0;34m(\u001b[0m\u001b[0mc\u001b[0m\u001b[0;34m)\u001b[0m\u001b[0;34m)\u001b[0m\u001b[0;34m\u001b[0m\u001b[0;34m\u001b[0m\u001b[0m\n\u001b[0m\u001b[1;32m      6\u001b[0m     \u001b[0mb\u001b[0m\u001b[0;34m.\u001b[0m\u001b[0mappend\u001b[0m\u001b[0;34m(\u001b[0m\u001b[0md\u001b[0m\u001b[0;34m)\u001b[0m\u001b[0;34m\u001b[0m\u001b[0;34m\u001b[0m\u001b[0m\n\u001b[1;32m      7\u001b[0m \u001b[0mprint\u001b[0m\u001b[0;34m(\u001b[0m\u001b[0mb\u001b[0m\u001b[0;34m)\u001b[0m\u001b[0;34m\u001b[0m\u001b[0;34m\u001b[0m\u001b[0m\n",
            "\u001b[0;31mTypeError\u001b[0m: 'str' object is not callable"
          ]
        }
      ]
    },
    {
      "cell_type": "markdown",
      "source": [
        "Sir\n",
        "\n",
        "I'm experiencing an issue with my code that runs correctly on other compilers but not in Google Colab. The code seems correct, but it fails to execute properly in the Colab\n",
        "\n"
      ],
      "metadata": {
        "id": "ZOfu9AHFJAgG"
      }
    },
    {
      "cell_type": "markdown",
      "source": [
        "4 . This is a Python Program to print all integers that aren’t divisible by either 2 or 3 and lies between 1 and 50.\n"
      ],
      "metadata": {
        "id": "CVNQX0ki0V9H"
      }
    },
    {
      "cell_type": "code",
      "source": [
        "print([i for i in list(range(1,51)) if i%2==0 or i%3==0])"
      ],
      "metadata": {
        "colab": {
          "base_uri": "https://localhost:8080/"
        },
        "id": "A3t_7Mc91fQA",
        "outputId": "10d2dbc0-c6d7-4cf7-ce82-b8154e292d33"
      },
      "execution_count": 58,
      "outputs": [
        {
          "output_type": "stream",
          "name": "stdout",
          "text": [
            "[2, 3, 4, 6, 8, 9, 10, 12, 14, 15, 16, 18, 20, 21, 22, 24, 26, 27, 28, 30, 32, 33, 34, 36, 38, 39, 40, 42, 44, 45, 46, 48, 50]\n"
          ]
        }
      ]
    },
    {
      "cell_type": "markdown",
      "source": [
        "5 . The program takes in an integer and prints the smallest divisor of the integer.\n",
        "\n"
      ],
      "metadata": {
        "id": "SRaC7dWi1p_Q"
      }
    },
    {
      "cell_type": "code",
      "source": [
        "n=int(input())\n",
        "l=[]\n",
        "for i in range(2,n+1):\n",
        "    if n%i==0:\n",
        "        l.append(i)\n",
        "        if len(l)==1:\n",
        "            break\n",
        "print(f\"smallest divisor :{l}\")"
      ],
      "metadata": {
        "colab": {
          "base_uri": "https://localhost:8080/"
        },
        "id": "kyex9RGo1y05",
        "outputId": "f7d95924-c918-4844-fd95-8f1368bcc840"
      },
      "execution_count": 59,
      "outputs": [
        {
          "output_type": "stream",
          "name": "stdout",
          "text": [
            "21\n",
            "smallest divisor :[3]\n"
          ]
        }
      ]
    },
    {
      "cell_type": "markdown",
      "source": [
        "6 . Write a Python program to check if it is a strong number or not .\n",
        "\n"
      ],
      "metadata": {
        "id": "03FJlvsa5B5l"
      }
    },
    {
      "cell_type": "code",
      "source": [
        "n=int(input())\n",
        "\n",
        "temp=n\n",
        "s=0\n",
        "while n>0:\n",
        "    r=n%10\n",
        "    fact=1\n",
        "    i=r\n",
        "    while i>0:\n",
        "        fact=fact*i\n",
        "        i=i-1\n",
        "    s=s+fact\n",
        "    n=n//10\n",
        "if temp==s:\n",
        "    print('strong number',temp)\n",
        "else:\n",
        "    print('not strong number',temp)"
      ],
      "metadata": {
        "colab": {
          "base_uri": "https://localhost:8080/"
        },
        "id": "Bm1hzqY75GJK",
        "outputId": "0834e573-0092-4848-a655-8772df0237dc"
      },
      "execution_count": 60,
      "outputs": [
        {
          "output_type": "stream",
          "name": "stdout",
          "text": [
            "145\n",
            "strong number 145\n"
          ]
        }
      ]
    },
    {
      "cell_type": "markdown",
      "source": [
        "7 . Write a Python program that takes input from the user and displays that input back in upper and lower cases.\n"
      ],
      "metadata": {
        "id": "IUnc2tbg5uUw"
      }
    },
    {
      "cell_type": "code",
      "source": [
        "a=input()\n",
        "print(a.upper())\n",
        "print(a.lower())"
      ],
      "metadata": {
        "colab": {
          "base_uri": "https://localhost:8080/"
        },
        "id": "K6jnduRk50fa",
        "outputId": "cbc3a64d-c9ac-4f82-adce-10292a94ecd5"
      },
      "execution_count": 61,
      "outputs": [
        {
          "output_type": "stream",
          "name": "stdout",
          "text": [
            "kalyAn\n",
            "KALYAN\n",
            "kalyan\n"
          ]
        }
      ]
    },
    {
      "cell_type": "markdown",
      "source": [
        "8 . Write a Python program to remove spaces from a given string\n",
        "\n",
        "input = united states\n",
        "\n",
        "output = unitedstates\n"
      ],
      "metadata": {
        "id": "MucAO1tU7dRg"
      }
    },
    {
      "cell_type": "code",
      "source": [
        "str=''\n",
        "a=input()\n",
        "for i in a:\n",
        "    if i in ' ':\n",
        "        str=str+''\n",
        "    else:\n",
        "        str=str+i\n",
        "print(str)"
      ],
      "metadata": {
        "colab": {
          "base_uri": "https://localhost:8080/"
        },
        "id": "QdwyPQYR70F5",
        "outputId": "d939a890-635e-4430-d1f1-717a50ea8aad"
      },
      "execution_count": 45,
      "outputs": [
        {
          "output_type": "stream",
          "name": "stdout",
          "text": [
            "sasi kalyan\n",
            "sasikalyan\n"
          ]
        }
      ]
    },
    {
      "cell_type": "markdown",
      "source": [
        "9 . Write a Python program to capitalize first and last letters of each word of a given string."
      ],
      "metadata": {
        "id": "hLQ-ix067_yl"
      }
    },
    {
      "cell_type": "code",
      "source": [
        "a=input().split()\n",
        "b=[]\n",
        "for i in a:\n",
        "    b.append(i[0].upper()+i[1:len(i)-1]+i[len(i)-1].upper())\n",
        "print(' '.join(b))"
      ],
      "metadata": {
        "colab": {
          "base_uri": "https://localhost:8080/"
        },
        "id": "L-Mz4Hrf8EkG",
        "outputId": "264d38fa-0416-4fd8-cb94-4f053ed994cf"
      },
      "execution_count": 47,
      "outputs": [
        {
          "output_type": "stream",
          "name": "stdout",
          "text": [
            "sasi kalyan\n",
            "SasI KalyaN\n"
          ]
        }
      ]
    },
    {
      "cell_type": "markdown",
      "source": [
        "10 . write a python program to find length of a string but should not use       len keyword\n"
      ],
      "metadata": {
        "id": "A1qf9Xre8nTF"
      }
    },
    {
      "cell_type": "code",
      "source": [
        "str=input()\n",
        "count=0\n",
        "for i in str:\n",
        "    count += 1\n",
        "print(count)"
      ],
      "metadata": {
        "colab": {
          "base_uri": "https://localhost:8080/"
        },
        "id": "r9TkOMXyAgjT",
        "outputId": "38cfbf94-7a6e-486f-d905-0915d3fe7ccb"
      },
      "execution_count": 48,
      "outputs": [
        {
          "output_type": "stream",
          "name": "stdout",
          "text": [
            "sasikalyan\n",
            "10\n"
          ]
        }
      ]
    }
  ]
}