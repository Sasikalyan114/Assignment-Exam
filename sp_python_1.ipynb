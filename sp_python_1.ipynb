{
  "nbformat": 4,
  "nbformat_minor": 0,
  "metadata": {
    "colab": {
      "provenance": [],
      "authorship_tag": "ABX9TyPyn5cJDoNZ1UfBO7Reak8b",
      "include_colab_link": true
    },
    "kernelspec": {
      "name": "python3",
      "display_name": "Python 3"
    },
    "language_info": {
      "name": "python"
    }
  },
  "cells": [
    {
      "cell_type": "markdown",
      "metadata": {
        "id": "view-in-github",
        "colab_type": "text"
      },
      "source": [
        "<a href=\"https://colab.research.google.com/github/Sasikalyan114/Assignment-Exam/blob/main/sp_python_1.ipynb\" target=\"_parent\"><img src=\"https://colab.research.google.com/assets/colab-badge.svg\" alt=\"Open In Colab\"/></a>"
      ]
    },
    {
      "cell_type": "markdown",
      "source": [
        "1 . Print the input text without vowels using List comprehensions\n",
        "\n",
        "input = 'hai'\n",
        "\n",
        "Expected output = h\n"
      ],
      "metadata": {
        "id": "iLEsfQ7eXLkX"
      }
    },
    {
      "cell_type": "code",
      "source": [
        "String=str(input())\n",
        "String=String.lower()\n",
        "vowels=['a','e','i','o','u']\n",
        "for i in String:\n",
        "  if i in vowels:\n",
        "    continue\n",
        "  else:\n",
        "    print(f'{i}',end='')"
      ],
      "metadata": {
        "colab": {
          "base_uri": "https://localhost:8080/"
        },
        "id": "TTbUi4uoXNaL",
        "outputId": "d4c0fb3e-85f6-48a2-e9f8-4c46d073d65b"
      },
      "execution_count": null,
      "outputs": [
        {
          "output_type": "stream",
          "name": "stdout",
          "text": [
            "hai\n",
            "h"
          ]
        }
      ]
    },
    {
      "cell_type": "markdown",
      "source": [
        "2 . Print only vowels from the text using List comprehensions\n",
        "\n",
        "input = data\n",
        "\n",
        "Expected output = dt\n"
      ],
      "metadata": {
        "id": "2E1iFR9WYkxU"
      }
    },
    {
      "cell_type": "code",
      "source": [
        "String=str(input())\n",
        "String=String.lower()\n",
        "vowels=['a','e','i','o','u']\n",
        "for i in String:\n",
        "  if i in vowels:\n",
        "     continue\n",
        "  else:\n",
        "     print(f'{i}',end='')\n",
        "\n",
        "\n"
      ],
      "metadata": {
        "colab": {
          "base_uri": "https://localhost:8080/"
        },
        "id": "yPIj9t5lY1vH",
        "outputId": "221f5d83-afb8-4754-8b9c-c5206626140e"
      },
      "execution_count": null,
      "outputs": [
        {
          "output_type": "stream",
          "name": "stdout",
          "text": [
            "data\n",
            "dt"
          ]
        }
      ]
    },
    {
      "cell_type": "markdown",
      "source": [
        "3. print each valu from the list with its index\n",
        "\n",
        "input = [10,11,50,34]\n",
        "\n",
        "Expected output = [100 , 111 , 502 , 343]\n"
      ],
      "metadata": {
        "id": "tKcuo7WnyfNZ"
      }
    },
    {
      "cell_type": "code",
      "source": [
        "input_list=[10,11,50,34]\n",
        "n=[]\n",
        "for i,j in enumerate(input_list):\n",
        "  a=int(str(j)+str(i))\n",
        "  n.append(a)\n",
        "print(n)"
      ],
      "metadata": {
        "colab": {
          "base_uri": "https://localhost:8080/"
        },
        "id": "aPjpFiDMyojh",
        "outputId": "068f1df1-2eaa-4041-c65e-aa60836048a9"
      },
      "execution_count": null,
      "outputs": [
        {
          "output_type": "stream",
          "name": "stdout",
          "text": [
            "[100, 111, 502, 343]\n"
          ]
        }
      ]
    },
    {
      "cell_type": "markdown",
      "source": [
        "4 . This is a Python Program to print all integers that aren’t divisible by either 2 or 3 and lies between 1 and 50.\n"
      ],
      "metadata": {
        "id": "CVNQX0ki0V9H"
      }
    },
    {
      "cell_type": "code",
      "source": [
        "for i in range(1,51):\n",
        "  if i%2 == 0 or i%3 == 0 :\n",
        "    continue\n",
        "  else:\n",
        "    print(i)\n"
      ],
      "metadata": {
        "colab": {
          "base_uri": "https://localhost:8080/"
        },
        "id": "A3t_7Mc91fQA",
        "outputId": "73a62cd9-fba1-4eca-cddc-7af4a344b9f9"
      },
      "execution_count": null,
      "outputs": [
        {
          "output_type": "stream",
          "name": "stdout",
          "text": [
            "1\n",
            "5\n",
            "7\n",
            "11\n",
            "13\n",
            "17\n",
            "19\n",
            "23\n",
            "25\n",
            "29\n",
            "31\n",
            "35\n",
            "37\n",
            "41\n",
            "43\n",
            "47\n",
            "49\n"
          ]
        }
      ]
    },
    {
      "cell_type": "markdown",
      "source": [
        "5 . The program takes in an integer and prints the smallest divisor of the integer.\n",
        "\n"
      ],
      "metadata": {
        "id": "SRaC7dWi1p_Q"
      }
    },
    {
      "cell_type": "code",
      "source": [
        "a=int(input(\"Enter a number : \"))\n",
        "divisors_list=[]\n",
        "for i in range(2,a+1):\n",
        "  if a%i==0:\n",
        "    divisors_list.append(i)\n",
        "print(f'list of divisor: {divisors_list}')\n",
        "divisors_list.sort()\n",
        "print(f'Smallest divisor: {divisors_list[0]}')\n"
      ],
      "metadata": {
        "colab": {
          "base_uri": "https://localhost:8080/"
        },
        "id": "kyex9RGo1y05",
        "outputId": "f4063d26-7a7c-4149-b3f9-f85de2f71851"
      },
      "execution_count": null,
      "outputs": [
        {
          "output_type": "stream",
          "name": "stdout",
          "text": [
            "Enter a number : 81\n",
            "list of divisor: [3, 9, 27, 81]\n",
            "Smallest divisor: 3\n"
          ]
        }
      ]
    },
    {
      "cell_type": "markdown",
      "source": [
        "6 . Write a Python program to check if it is a strong number or not .\n",
        "\n"
      ],
      "metadata": {
        "id": "03FJlvsa5B5l"
      }
    },
    {
      "cell_type": "code",
      "source": [
        "import math\n",
        "def is_Strong_Num(integer):\n",
        "  temp=integer\n",
        "  sum_of_factorials=0\n",
        "  while temp > 0:\n",
        "    rem=temp%10\n",
        "    sum_of_factorials = sum_of_factorials + math.factorial(rem)\n",
        "    temp=temp//10\n",
        "  return sum_of_factorials==integer\n",
        "\n",
        "integer=int(input(\"Enter a number : \"))\n",
        "\n",
        "if is_Strong_Num(integer):\n",
        "  print(f'{integer} is a Strong Number')\n",
        "else:\n",
        "  print(f'{integer} is not a Strong Number')"
      ],
      "metadata": {
        "colab": {
          "base_uri": "https://localhost:8080/"
        },
        "id": "Bm1hzqY75GJK",
        "outputId": "30ac171d-fca0-4482-f630-d89a831a51cc"
      },
      "execution_count": null,
      "outputs": [
        {
          "output_type": "stream",
          "name": "stdout",
          "text": [
            "Enter a number : 2\n",
            "2 is a Strong Number\n"
          ]
        }
      ]
    },
    {
      "cell_type": "markdown",
      "source": [
        "7 . Write a Python program that takes input from the user and displays that input back in upper and lower cases.\n"
      ],
      "metadata": {
        "id": "IUnc2tbg5uUw"
      }
    },
    {
      "cell_type": "code",
      "source": [
        "a=str(input(\"Enter a number : \"))\n",
        "lower_case=a.lower()\n",
        "upper_case=a.upper()\n",
        "print(lower_case)\n",
        "print(upper_case)"
      ],
      "metadata": {
        "colab": {
          "base_uri": "https://localhost:8080/"
        },
        "id": "K6jnduRk50fa",
        "outputId": "5fe86abb-f05b-4862-c2ff-7231a8390a54"
      },
      "execution_count": null,
      "outputs": [
        {
          "output_type": "stream",
          "name": "stdout",
          "text": [
            "Enter a number : SASI kalyan\n",
            "sasi kalyan\n",
            "SASI KALYAN\n"
          ]
        }
      ]
    },
    {
      "cell_type": "markdown",
      "source": [
        "8 . Write a Python program to remove spaces from a given string\n",
        "\n",
        "input = united states\n",
        "\n",
        "output = unitedstates\n"
      ],
      "metadata": {
        "id": "MucAO1tU7dRg"
      }
    },
    {
      "cell_type": "code",
      "source": [
        "string=str(input())\n",
        "String=string.replace(' ','')\n",
        "print(String)"
      ],
      "metadata": {
        "colab": {
          "base_uri": "https://localhost:8080/"
        },
        "id": "QdwyPQYR70F5",
        "outputId": "d826c17c-ea13-4f54-b385-99fe2a09d19d"
      },
      "execution_count": null,
      "outputs": [
        {
          "output_type": "stream",
          "name": "stdout",
          "text": [
            "united states\n",
            "unitedstates\n"
          ]
        }
      ]
    },
    {
      "cell_type": "markdown",
      "source": [
        "9 . Write a Python program to capitalize first and last letters of each word of a given string."
      ],
      "metadata": {
        "id": "hLQ-ix067_yl"
      }
    },
    {
      "cell_type": "code",
      "source": [
        "def Capaitalize_First_Last(input_string):\n",
        "  words=input_string.split()\n",
        "  result=[]\n",
        "  for word in words:\n",
        "    if len(word)>1:\n",
        "      result.append(word[0].upper() + word[1:-1] + word[-1].upper())\n",
        "    else:\n",
        "      result.append(word.upper())\n",
        "  return \" \".join(result)\n",
        "input_string=str(input())\n",
        "output_string=Capaitalize_First_Last(input_string)\n",
        "print(output_string)"
      ],
      "metadata": {
        "colab": {
          "base_uri": "https://localhost:8080/"
        },
        "id": "L-Mz4Hrf8EkG",
        "outputId": "b34f3d30-1a2c-4a7f-dcd1-d1e152acb731"
      },
      "execution_count": null,
      "outputs": [
        {
          "output_type": "stream",
          "name": "stdout",
          "text": [
            "sasi kalyan\n",
            "SasI KalyaN\n"
          ]
        }
      ]
    },
    {
      "cell_type": "markdown",
      "source": [
        "10 . write a python program to find length of a string but should not use       len keyword\n"
      ],
      "metadata": {
        "id": "A1qf9Xre8nTF"
      }
    },
    {
      "cell_type": "code",
      "source": [
        "my_String=str(input())\n",
        "count=0\n",
        "for char in my_String:\n",
        "  count=count+1\n",
        "print(count)\n"
      ],
      "metadata": {
        "colab": {
          "base_uri": "https://localhost:8080/"
        },
        "id": "TUjWKsL183Ny",
        "outputId": "624a87c0-b0f5-441f-a5e3-fd29544936ed"
      },
      "execution_count": null,
      "outputs": [
        {
          "output_type": "stream",
          "name": "stdout",
          "text": [
            "sasi kalyan\n",
            "11\n"
          ]
        }
      ]
    }
  ]
}